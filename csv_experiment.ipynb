{
 "cells": [
  {
   "cell_type": "code",
   "execution_count": null,
   "metadata": {},
   "outputs": [],
   "source": [
    "import re\n",
    "from datetime import datetime, timedelta\n",
    "import pandas as pd\n",
    "import numpy as np\n",
    "\n",
    "file = pd.read_csv(\"6기.csv\", encoding='UTF8')\n",
    "\n",
    "file['Message'] = file['Message'].str.split('\\n')\n",
    "\n",
    "new_file = pd.DataFrame({\n",
    "    col:np.repeat(file[col].values, file['Message'].str.len())\n",
    "    for col in file.columns.drop('Message')}\n",
    ")\n",
    "\n",
    "new_file['Message'] = [msg for sublist in file['Message'] for msg in sublist]\n",
    "\n",
    "new_file"
   ]
  },
  {
   "cell_type": "code",
   "execution_count": null,
   "metadata": {},
   "outputs": [],
   "source": [
    "pattern_set = r'\\d{4}\\s?\\w+\\s?설정' # 설정 정규식\n",
    "pattern_success = r'\\d{4}\\s?\\w+\\s?성공' # 성공 정규식\n",
    "pattern_fail = r'\\d{4}\\s?\\w+\\s?실패' # 실패 정규식\n",
    "pattern_off = r'\\d{4}\\s?\\w+\\s?.*?\\s?off' # off 정규식\n",
    "pattern_offs = r'\\d{4}-\\d{4}\\s?\\w+\\s?.*?\\s?off' # offs 정규식\n",
    "pattern_retry_set = r'\\d{4}\\s?\\w+\\s?\\d{4}\\s?재도전' # 재도전 설정 정규식\n",
    "pattern_retry_sucess = r'\\d{4}\\s?\\w+\\s?\\d{4}\\s?재성공' # 재도전 인증 정규식\n",
    "pattern_time = r'\\d{4}\\s?'\n",
    "\n",
    "# set_list = new_file[new_file['Message'].str.contains(pattern_set, regex=True)] \n",
    "# success_list = new_file[new_file['Message'].str.contains(pattern_success, regex=True)] \n",
    "# fail_list = new_file[new_file['Message'].str.contains(pattern_fail, regex=True)] \n",
    "# off_list = new_file[new_file['Message'].str.contains(pattern_off, regex=True)] \n",
    "# offs_list = new_file[new_file['Message'].str.contains(pattern_offs, regex=True)] \n",
    "# retry_set_list = new_file[new_file['Message'].str.contains(pattern_retry_set, regex=True)] \n",
    "# retry_sucess_list = new_file[new_file['Message'].str.contains(pattern_retry_sucess, regex=True)] \n",
    "\n",
    "filter_option = f\"{pattern_set}|{pattern_success}|{pattern_fail}|{pattern_off}|{pattern_offs}|{pattern_retry_set}|{pattern_retry_sucess}\"\n",
    "filtered_rows = new_file[new_file['Message'].str.contains(filter_option, regex=True)]\n",
    "filtered_rows = filtered_rows.reset_index(drop=True, inplace=False)\n",
    "filtered_rows['Late'] = 'O'\n",
    "\n",
    "filtered_rows"
   ]
  },
  {
   "cell_type": "code",
   "execution_count": null,
   "metadata": {},
   "outputs": [],
   "source": [
    "for i in filtered_rows['Date']:\n",
    "   i = datetime.strptime('%Y-%m-%d %H:%M:%S')\n",
    "   \n",
    "type(filtered_rows['Date'][0])"
   ]
  },
  {
   "cell_type": "code",
   "execution_count": null,
   "metadata": {},
   "outputs": [],
   "source": [
    "def set_deadline(USER, line):\n",
    "    if USER in ['권세한', '임혁규', '이신후', '이준수']:\n",
    "        DEADLINE = 21\n",
    "    elif 3 <= datetime.strptime(line, \"%Y%m%d\").month <= 6:\n",
    "        DEADLINE = 11    \n",
    "    else :\n",
    "        DEADLINE = 10\n",
    "        \n",
    "    return DEADLINE"
   ]
  },
  {
   "cell_type": "code",
   "execution_count": null,
   "metadata": {},
   "outputs": [],
   "source": []
  },
  {
   "cell_type": "code",
   "execution_count": null,
   "metadata": {},
   "outputs": [],
   "source": []
  }
 ],
 "metadata": {
  "kernelspec": {
   "display_name": "Python 3",
   "language": "python",
   "name": "python3"
  },
  "language_info": {
   "codemirror_mode": {
    "name": "ipython",
    "version": 3
   },
   "file_extension": ".py",
   "mimetype": "text/x-python",
   "name": "python",
   "nbconvert_exporter": "python",
   "pygments_lexer": "ipython3",
   "version": "3.12.0"
  }
 },
 "nbformat": 4,
 "nbformat_minor": 2
}
